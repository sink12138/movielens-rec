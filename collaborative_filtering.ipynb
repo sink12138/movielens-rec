{
 "cells": [
  {
   "cell_type": "code",
   "execution_count": 1,
   "id": "a5d6e4ed",
   "metadata": {},
   "outputs": [],
   "source": [
    "import pandas as pd\n",
    "from scipy.sparse import csr_matrix\n",
    "from sklearn.metrics.pairwise import cosine_similarity\n",
    "from collections import defaultdict\n",
    "\n",
    "# 读取数据\n",
    "ratings = pd.read_csv('data/ratings.csv')\n",
    "\n",
    "# 过滤低频用户和电影\n",
    "min_user_ratings = 50\n",
    "min_movie_ratings = 50\n",
    "user_counts = ratings['userId'].value_counts()\n",
    "movie_counts = ratings['movieId'].value_counts()\n",
    "\n",
    "ratings = ratings[ratings['userId'].isin(user_counts[user_counts >= min_user_ratings].index)]\n",
    "ratings = ratings[ratings['movieId'].isin(movie_counts[movie_counts >= min_movie_ratings].index)]"
   ]
  },
  {
   "cell_type": "code",
   "execution_count": 2,
   "id": "70b2dd14",
   "metadata": {},
   "outputs": [],
   "source": [
    "user_avg = ratings.groupby(\"userId\")[\"rating\"].mean().reset_index()\n",
    "user_avg.columns = [\"userId\", \"avg_rating\"]\n",
    "\n",
    "ratings = pd.merge(ratings, user_avg, on=\"userId\")\n",
    "ratings[\"adjusted_rating\"] = ratings[\"rating\"] - ratings[\"avg_rating\"]\n",
    "\n",
    "adjusted_matrix = ratings.pivot_table(\n",
    "    index=\"userId\", columns=\"movieId\", values=\"adjusted_rating\"\n",
    ").fillna(0)\n",
    "sparse_adjusted_matrix = csr_matrix(adjusted_matrix.values)"
   ]
  },
  {
   "cell_type": "code",
   "execution_count": 3,
   "id": "a2c59dc0",
   "metadata": {},
   "outputs": [],
   "source": [
    "item_user_matrix = sparse_adjusted_matrix.T\n",
    "\n",
    "# 计算余弦相似度\n",
    "cos_sim = cosine_similarity(item_user_matrix)\n",
    "\n",
    "# 保存电影ID列表\n",
    "movie_ids = adjusted_matrix.columns.tolist()"
   ]
  },
  {
   "cell_type": "code",
   "execution_count": 4,
   "id": "646e4625",
   "metadata": {},
   "outputs": [],
   "source": [
    "similar_items = {}\n",
    "K = 20\n",
    "\n",
    "for idx in range(len(cos_sim)):\n",
    "    # 排除自身，取Top-K\n",
    "    sim_scores = list(enumerate(cos_sim[idx]))\n",
    "    sim_scores = sorted(sim_scores, key=lambda x: x[1], reverse=True)[1:K+1]\n",
    "    # 转换为电影ID和相似度\n",
    "    similar_items[movie_ids[idx]] = [(movie_ids[i], score) for i, score in sim_scores]"
   ]
  },
  {
   "cell_type": "code",
   "execution_count": null,
   "id": "6ca1b557",
   "metadata": {},
   "outputs": [],
   "source": [
    "def recommend_items(user_id, top_n=10):\n",
    "    # 用户历史评分过的电影\n",
    "    user_rated = adjusted_matrix.loc[user_id]\n",
    "    rated_movies = user_rated[user_rated > 0].index.tolist()\n",
    "    \n",
    "    scores = defaultdict(float)\n",
    "    # 遍历用户评分的每个电影\n",
    "    for movie_id in rated_movies:\n",
    "        if movie_id in similar_items:\n",
    "            for (similar_movie, sim) in similar_items[movie_id]:\n",
    "                if similar_movie not in rated_movies:\n",
    "                    # 使用adjusted_matrix作为权重\n",
    "                    scores[similar_movie] += sim * user_rated[movie_id]\n",
    "    \n",
    "    # 按得分排序，返回Top-N\n",
    "    recommended = sorted(scores.items(), key=lambda x: x[1], reverse=True)[:top_n]\n",
    "    return recommended"
   ]
  },
  {
   "cell_type": "code",
   "execution_count": 11,
   "id": "ce9b03b0",
   "metadata": {},
   "outputs": [
    {
     "name": "stdout",
     "output_type": "stream",
     "text": [
      "推荐给用户 116 的电影：\n",
      "电影ID: 1196, 推荐分数: 4.8042\n",
      "电影ID: 1210, 推荐分数: 3.4871\n",
      "电影ID: 318, 推荐分数: 2.8098\n",
      "电影ID: 1214, 推荐分数: 2.7837\n",
      "电影ID: 1270, 推荐分数: 2.4911\n",
      "电影ID: 50, 推荐分数: 2.1790\n",
      "电影ID: 541, 推荐分数: 1.8814\n",
      "电影ID: 593, 推荐分数: 1.8194\n",
      "电影ID: 858, 推荐分数: 1.5731\n",
      "电影ID: 2716, 推荐分数: 1.3812\n"
     ]
    }
   ],
   "source": [
    "# Example：为用户ID为1的用户推荐10部电影\n",
    "user_id = 116\n",
    "recommendations = recommend_items(user_id)\n",
    "print(\"推荐给用户\", user_id, \"的电影：\")\n",
    "for movie_id, score in recommendations:\n",
    "    print(f\"电影ID: {movie_id}, 推荐分数: {score:.4f}\")"
   ]
  },
  {
   "cell_type": "code",
   "execution_count": null,
   "id": "fc8f6068",
   "metadata": {},
   "outputs": [
    {
     "data": {
      "text/plain": [
       "['itemcf_model.joblib']"
      ]
     },
     "execution_count": 16,
     "metadata": {},
     "output_type": "execute_result"
    }
   ],
   "source": [
    "from joblib import dump\n",
    "import numpy as np\n",
    "\n",
    "\n",
    "# 组合需要保存的数据\n",
    "model_data = {\n",
    "    \"similar_items\": similar_items,\n",
    "    'adjusted_matrix': adjusted_matrix,\n",
    "    \"movie_ids\": movie_ids\n",
    "}\n",
    "\n",
    "# 保存为压缩文件\n",
    "dump(model_data, \"data/itemcf_model.joblib\", compress=3, protocol=4)"
   ]
  }
 ],
 "metadata": {
  "kernelspec": {
   "display_name": "base",
   "language": "python",
   "name": "python3"
  },
  "language_info": {
   "codemirror_mode": {
    "name": "ipython",
    "version": 3
   },
   "file_extension": ".py",
   "mimetype": "text/x-python",
   "name": "python",
   "nbconvert_exporter": "python",
   "pygments_lexer": "ipython3",
   "version": "3.12.7"
  }
 },
 "nbformat": 4,
 "nbformat_minor": 5
}
